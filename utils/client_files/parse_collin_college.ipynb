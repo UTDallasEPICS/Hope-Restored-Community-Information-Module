{
 "cells": [
  {
   "cell_type": "markdown",
   "metadata": {},
   "source": [
    "# Parse PDF File for table"
   ]
  },
  {
   "cell_type": "code",
   "execution_count": null,
   "metadata": {},
   "outputs": [],
   "source": [
    "# Install necessary libraries \n",
    "!pip install pdfplumber"
   ]
  },
  {
   "cell_type": "code",
   "execution_count": null,
   "metadata": {},
   "outputs": [],
   "source": [
    "import pdfplumber\n",
    "\n",
    "pdf_path = \"..\\..\\private\\client-files\\collin.pdf\"  # Insert the path to the PDF file\n",
    "csv_file_path = \"..\\..\\private\\client-files\\collin_college_csv\" # Insert the path to the CSV file\n",
    "\n",
    "with pdfplumber.open(pdf_path) as pdf:\n",
    "    extracted_text = \"\"\n",
    "    tables = []\n",
    "\n",
    "    for page_num, page in enumerate(pdf.pages):\n",
    "        extracted_text += page.extract_text() + \"\\n\\n\"\n",
    "        tables_on_page = page.extract_tables()\n",
    "\n",
    "        if tables_on_page:\n",
    "            for table in tables_on_page:\n",
    "                tables.append(table)"
   ]
  },
  {
   "cell_type": "code",
   "execution_count": null,
   "metadata": {},
   "outputs": [],
   "source": [
    "for i, table in enumerate(tables):\n",
    "    print(f\"\\nTable {i + 1}:\")\n",
    "    for row in table:\n",
    "        print(row)"
   ]
  },
  {
   "cell_type": "code",
   "execution_count": null,
   "metadata": {},
   "outputs": [],
   "source": [
    "all_rows = []\n",
    "\n",
    "for table in tables:\n",
    "    for row in table:\n",
    "        all_rows.append(row)\n",
    "\n",
    "split_tables = []\n",
    "current_table = []\n",
    "\n",
    "\n",
    "for row in all_rows:\n",
    "    if len(row) > 2 and row[2] == \"Phone\":\n",
    "        if current_table:\n",
    "            split_tables.append(current_table)\n",
    "        current_table = [row]\n",
    "    else:\n",
    "        current_table.append(row)\n",
    "\n",
    "if current_table:\n",
    "    split_tables.append(current_table)"
   ]
  },
  {
   "cell_type": "code",
   "execution_count": null,
   "metadata": {},
   "outputs": [],
   "source": [
    "for i, split_table in enumerate(split_tables):\n",
    "    print(f\"\\nSplit Table {i + 1}:\")\n",
    "    for row in split_table:\n",
    "        print(row)"
   ]
  },
  {
   "cell_type": "code",
   "execution_count": null,
   "metadata": {},
   "outputs": [],
   "source": [
    "filtered_tables = []\n",
    "extraneous_tables = []\n",
    "for i, split_table in enumerate(split_tables):\n",
    "    filtered_table = []\n",
    "    extraneous_table = []\n",
    "    for row in split_table:\n",
    "        if any(cell not in [None, \"\"] for cell in row):\n",
    "            if any(cell in [None, \"\"] for cell in row) or len(row) < 3:\n",
    "                extraneous_table.append(row.copy())\n",
    "            else:\n",
    "                filtered_table.append(row.copy())\n",
    "\n",
    "    print(f\"\\nSplit Table {i + 1} (after removing empty rows):\")\n",
    "    for row in filtered_table:\n",
    "        print(row)\n",
    "    print(f\"\\nExtra Table {i + 1} (need to augment the split table):\")\n",
    "    for row in extraneous_table:\n",
    "        print(row)\n",
    "\n",
    "    filtered_tables.append(filtered_table)\n",
    "    extraneous_tables.append(extraneous_table)"
   ]
  },
  {
   "cell_type": "code",
   "execution_count": null,
   "metadata": {},
   "outputs": [],
   "source": [
    "# Augmenting the extra to the split table\n",
    "index = next(i for i, row in enumerate(filtered_tables[4]) if \"National Autism\" in row[0])\n",
    "print(filtered_tables[4][index][1], \"\\n\")\n",
    "filtered_tables[4][index][1] += \"\\n\" + [\" \".join(row[1] for row in extraneous_tables[4])][0]\n",
    "print(filtered_tables[4][index][1], \"\\n\")\n",
    "\n",
    "index = next(i for i, row in enumerate(filtered_tables[5]) if \"Life Path\" in row[0])\n",
    "print(filtered_tables[5][index][1], \"\\n\")\n",
    "filtered_tables[5][index][1] += \" \" + [\" \".join(extraneous_tables[5][i][0] for i in range(0, 4))][0]\n",
    "print(filtered_tables[5][index][1], \"\\n\")\n",
    "\n",
    "\n",
    "filtered_tables[8].append(extraneous_tables[8][0])\n",
    "print(filtered_tables[8], \"\\n\")\n",
    "\n",
    "index = next(i for i, row in enumerate(filtered_tables[9]) if \"Medical City\" in row[0])\n",
    "print(filtered_tables[9][index][0], \"\\n\")\n",
    "filtered_tables[9][index][0] += \"\\n\" + [\" \".join(extraneous_tables[9][i][0] for i in range(0, 2))][0]\n",
    "filtered_tables[9][index][0] += \"\\n\" + extraneous_tables[9][2][0].replace(\"\\n\", \"\")\n",
    "print(filtered_tables[9][index][0], \"\\n\")\n",
    "\n",
    "index = next(i for i, row in enumerate(filtered_tables[12]) if \"Collin County Health Care Services\" in row[0])\n",
    "print(filtered_tables[12][index][0], \"\\n\")\n",
    "filtered_tables[12][index][0] += extraneous_tables[12][0][0]\n",
    "print(filtered_tables[12][index][0], \"\\n\")\n",
    "\n",
    "index = next(i for i, row in enumerate(filtered_tables[12]) if \"Women’s Veteran\" in row[0])\n",
    "print(filtered_tables[12][index][0], \"\\n\")\n",
    "filtered_tables[12][index][0] += extraneous_tables[12][1][0]\n",
    "print(filtered_tables[12][index][0], \"\\n\")\n",
    "\n",
    "index = next(i for i, row in enumerate(filtered_tables[13]) if \"Islamic\" in row[0])\n",
    "print(filtered_tables[13][index][1], \"\\n\")\n",
    "filtered_tables[13][index][1] += \"\\n\" + [\"\\n\".join(extraneous_tables[13][i][1] for i in range(0, 4))][0]\n",
    "print(filtered_tables[13][index][1], \"\\n\")\n",
    "\n",
    "filtered_tables[13].append(extraneous_tables[13][4])\n",
    "print(filtered_tables[13], \"\\n\")"
   ]
  },
  {
   "cell_type": "code",
   "execution_count": null,
   "metadata": {},
   "outputs": [],
   "source": [
    "filtered_table = [[\n",
    "    [cell.replace('\\n', ' ') if idx == 1 else cell for idx, cell in enumerate(row)] \n",
    "    for row in filtered_table\n",
    "] for filtered_table in filtered_tables]\n",
    "\n",
    "for i, test_table in enumerate(filtered_table):\n",
    "    print(f\"\\nTest Table {i + 1}:\")\n",
    "    for row in test_table:\n",
    "        print(row[1]) if len(row) > 1 else print(row)"
   ]
  },
  {
   "cell_type": "code",
   "execution_count": 173,
   "metadata": {},
   "outputs": [],
   "source": [
    "for i, test_table in enumerate(filtered_table):\n",
    "    for row in test_table:\n",
    "        lines = [line.strip() for line in row[0].split(\"\\n\")]\n",
    "        # The /A is outlier in the data with care/Adoption mess up\n",
    "        possible_links = [line for line in lines if \"/\" in line and '/A' not in line]\n",
    "        possible_links = [line.replace(\" \", \"\") for line in possible_links]"
   ]
  }
 ],
 "metadata": {
  "kernelspec": {
   "display_name": "Python 3",
   "language": "python",
   "name": "python3"
  },
  "language_info": {
   "codemirror_mode": {
    "name": "ipython",
    "version": 3
   },
   "file_extension": ".py",
   "mimetype": "text/x-python",
   "name": "python",
   "nbconvert_exporter": "python",
   "pygments_lexer": "ipython3",
   "version": "3.11.0"
  }
 },
 "nbformat": 4,
 "nbformat_minor": 2
}
