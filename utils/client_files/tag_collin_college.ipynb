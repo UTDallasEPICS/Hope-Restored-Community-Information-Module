{
 "cells": [
  {
   "cell_type": "markdown",
   "metadata": {},
   "source": [
    "# This code is run on Google Collab! Reproduce the code here for reference"
   ]
  },
  {
   "cell_type": "code",
   "execution_count": null,
   "metadata": {},
   "outputs": [],
   "source": [
    "!pip install transformers\n",
    "!pip install sentence-transformers"
   ]
  },
  {
   "cell_type": "code",
   "execution_count": 38,
   "metadata": {},
   "outputs": [],
   "source": [
    "collin_college_path = \"..\\..\\public\\client_files\\collin-college\\\\collin_college.csv\"\n",
    "taxonomy_path = \"..\\..\\public\\client_files\\\\resource_taxonomy.xml\""
   ]
  },
  {
   "cell_type": "code",
   "execution_count": null,
   "metadata": {},
   "outputs": [],
   "source": [
    "import xml.etree.ElementTree as ET\n",
    "\n",
    "# Load and parse the XML file\n",
    "tree = ET.parse(taxonomy_path)\n",
    "root = tree.getroot()\n",
    "\n",
    "services_xml = root.find(\"services\")\n",
    "descriptions_xml = services_xml.find(\"descriptions\")\n",
    "\n",
    "categories = {}\n",
    "for category in descriptions_xml.findall(\"category\"):\n",
    "    category_title = category.attrib[\"title\"]\n",
    "    category_description = category.text.strip()\n",
    "    categories[category_title] = category_description\n",
    "print(categories)\n",
    "\n",
    "resource_tags = {}\n",
    "for top_level in services_xml.findall(\"top_level\"):\n",
    "    top_title = top_level.get(\"title\")\n",
    "    # top_title += \": \" + categories[top_title.lower()]\n",
    "    resource_tags[top_title] = []\n",
    "    for second_level in top_level.findall(\"second_level\"):\n",
    "        second_title = second_level.get(\"title\")\n",
    "        second_data = []\n",
    "        for third_level in second_level.findall(\"third_level\"):\n",
    "            third_title = third_level.get(\"title\")\n",
    "            third_data = []\n",
    "            for fourth_level in third_level.findall(\"fourth_level\"):\n",
    "                fourth_title = fourth_level.get(\"title\")\n",
    "                third_data.append(fourth_title)\n",
    "            third_data = {third_title: third_data} if third_data else third_title\n",
    "            second_data.append(third_data)\n",
    "        second_data = {second_title: second_data} if second_data else second_title\n",
    "        resource_tags[top_title].append(second_data)"
   ]
  },
  {
   "cell_type": "code",
   "execution_count": null,
   "metadata": {},
   "outputs": [],
   "source": [
    "leaf_tags = {}\n",
    "\n",
    "def add_semantic(path):\n",
    "    categories = path.split(\"|\")\n",
    "    top_category = categories[0]\n",
    "    resource = categories[-1]\n",
    "    remainings = categories[1:-1]\n",
    "    semantic = f\"This resource is about {resource}\"\n",
    "    if remainings:\n",
    "        semantic += f\", associated with {', '.join(remainings)}\"\n",
    "    semantic += f\" and is under {top_category} category.\"\n",
    "    return semantic\n",
    "\n",
    "def extract_leaf_tags(data, path):\n",
    "    if isinstance(data, list):\n",
    "        for item in data:\n",
    "            extract_leaf_tags(item, path)\n",
    "    elif isinstance(data, dict):\n",
    "        for key, value in data.items():\n",
    "            new_path = f\"{path}|{key}\" if path else key\n",
    "            extract_leaf_tags(value, new_path)\n",
    "    else: leaf_tags[data] = add_semantic(f\"{path}|{data}\")\n",
    "\n",
    "\n",
    "for top_title, second_levels in resource_tags.items():\n",
    "    extract_leaf_tags(second_levels, top_title)\n",
    "\n",
    "print(leaf_tags)"
   ]
  },
  {
   "cell_type": "code",
   "execution_count": 46,
   "metadata": {},
   "outputs": [],
   "source": [
    "import pandas as pd\n",
    "\n",
    "df = pd.read_csv(collin_college_path, encoding=\"ISO-8859-1\")\n",
    "entities = {}\n",
    "for index, row in df.iterrows():\n",
    "    entities[row[\"Name\"]] = row[\"Description\"]\n",
    "print(entities)"
   ]
  },
  {
   "cell_type": "code",
   "execution_count": null,
   "metadata": {},
   "outputs": [],
   "source": [
    "from transformers import pipeline\n",
    "\n",
    "# Load the zero-shot classification pipeline\n",
    "classifier = pipeline(\"zero-shot-classification\", model=\"facebook/bart-large-mnli\", device=\"cuda:0\")\n",
    "\n",
    "classes = list(leaf_tags.keys())\n",
    "for name, description in entities.items():\n",
    "    print(f\"Name: {name}\")\n",
    "    print(f\"Description: {description}\")\n",
    "    result = classifier(description, classes, multi_label=True)\n",
    "    combined = list(zip(result[\"labels\"], result[\"scores\"]))\n",
    "    sorted_combined = sorted(combined, key=lambda x: x[1], reverse=True)\n",
    "    good_tags = [label.lower() for label, score in sorted_combined if score > 0.5]\n",
    "    print(\"Services: \" + \", \".join(good_tags).capitalize())\n",
    "    print(\"\\n\")"
   ]
  },
  {
   "cell_type": "code",
   "execution_count": null,
   "metadata": {},
   "outputs": [],
   "source": [
    "from sentence_transformers import SentenceTransformer, util\n",
    "import numpy as np\n",
    "\n",
    "model = SentenceTransformer('all-MiniLM-L6-v2')\n",
    "classes_embeddings = model.encode(classes, convert_to_tensor=True)\n",
    "\n",
    "for name, description in entities.items():\n",
    "    print(f\"Name: {name}\")\n",
    "    print(f\"Description: {description}\")\n",
    "    print(\"Tags:\")\n",
    "\n",
    "    description_embedding = model.encode(description, convert_to_tensor=True)\n",
    "    cosine_scores = util.pytorch_cos_sim(description_embedding, classes_embeddings)\n",
    "\n",
    "    combined = list(zip(classes, cosine_scores[0].cpu().numpy()))\n",
    "    sorted_combined = sorted(combined, key=lambda x: x[1], reverse=True)\n",
    "    top_10 = sorted_combined[:10]\n",
    "\n",
    "    for label, score in top_10:\n",
    "        label = next((name for name, value in leaf_tags.items() if value == label), None)\n",
    "        print(f\" - {label}: {score:.4f}\")\n",
    "    print(\"\\n\")"
   ]
  }
 ],
 "metadata": {
  "kernelspec": {
   "display_name": "Python 3",
   "language": "python",
   "name": "python3"
  },
  "language_info": {
   "codemirror_mode": {
    "name": "ipython",
    "version": 3
   },
   "file_extension": ".py",
   "mimetype": "text/x-python",
   "name": "python",
   "nbconvert_exporter": "python",
   "pygments_lexer": "ipython3",
   "version": "3.11.0"
  }
 },
 "nbformat": 4,
 "nbformat_minor": 2
}
